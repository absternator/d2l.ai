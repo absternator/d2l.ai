{
 "cells": [
  {
   "cell_type": "markdown",
   "id": "fce8a203",
   "metadata": {},
   "source": [
    "# 15.2. Approximate Training\n",
    "- have to calculate sum of all words in the vocabulary. this computational expensive!\n",
    "- negative sampling\n",
    "  - randomly sample a few words from the vocabulary\n",
    "  - use these words to update the weights\n",
    "  - time complexity is O(k) where k is the number of negative samples\n",
    "- hierarchical softmax\n",
    "  - use a binary tree to represent the vocabulary. each lead node is a word in the vocabulary\n",
    "  - traverse the tree to find the word\n",
    "  - time complexity is O(log(V)) where V is the size of the vocabulary"
   ]
  }
 ],
 "metadata": {
  "language_info": {
   "name": "python"
  }
 },
 "nbformat": 4,
 "nbformat_minor": 5
}
