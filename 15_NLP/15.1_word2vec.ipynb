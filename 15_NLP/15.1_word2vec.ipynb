{
 "cells": [
  {
   "cell_type": "markdown",
   "id": "68db1b92",
   "metadata": {},
   "source": [
    "# Word Embeddings (word2vec)\n",
    "# =========================\n",
    "- vectors to represent word embeddings\n",
    "- word2vec is a technique to create word embeddings\n",
    "- oneHot encoding is BAD\n",
    "- self-supervised learning to to create word embeddings\n",
    "- skip-gram model \n",
    "  - center word vector + context word vectors\n",
    "- CBOW (Continuous Bag of Words)\n",
    "  - major difference is that it predicts the center word from the context words"
   ]
  },
  {
   "cell_type": "markdown",
   "id": "9543120c",
   "metadata": {},
   "source": []
  }
 ],
 "metadata": {
  "language_info": {
   "name": "python"
  }
 },
 "nbformat": 4,
 "nbformat_minor": 5
}
