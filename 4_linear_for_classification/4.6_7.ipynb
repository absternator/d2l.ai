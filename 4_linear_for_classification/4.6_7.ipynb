{
 "cells": [
  {
   "cell_type": "markdown",
   "metadata": {},
   "source": [
    "### Generalization\n",
    "- for any desired upper bound generalization e, we can determine n samples such that if our training set contains atlease n samples, our empirical error will be within e of the true error for any generating distribution. \n",
    "- But this *priori* is usually too large to be practical. (trillions sometimes). thus we forgo *priori*. \n",
    "- empirical error on test dataset is fraction of misclassified examples.\n",
    "- population error (true) is expected fraction in underlying distribution. But hard to observer so we just use empirical error as proxy. with lots of samples it converges.\n",
    "- We want 1 sd interval, corresponds to 25000 samples. and 2sd interval corresponds to 100000 samples. (assuming bernoulli distribution) ... is is a popular bench mark in ML for size\n",
    "- valid finite bounds by applying Hoeffding inequality. Solving for smallest dataset allows us to conclude with 95% confidence that the true error and emperical error doest not exceed 0.01. Find we need 15,000 samples here compared to 10,000\n",
    "- test set reuse is a common problem. problem called adaptive overfitting. \n",
    "- in practice consult tests set as infrequent as possible. When running series of benchmarks, good practice to have several test sets and use each only once. old test sets can be demoted to validation sets.\n",
    "- it can only tell us *post hoc* still and not *a priori*.\n",
    "- desired error rate is O(1/sqrt(n)) \n",
    "- "
   ]
  },
  {
   "cell_type": "markdown",
   "metadata": {},
   "source": [
    "### Environment and distribution shift\n",
    "- in reality training and test data are drawn from different distributions.\n",
    "- covariant shift: distribution of input changes but conditional distribution P(y | **x**) remains the same.\n",
    "- label shift: P(y) changes but P(**x** | y) remains the same. reasonable whne we believe y causes **x**. \n",
    "- concept shift: definiton of labels shifts.. eg. is a cat a cat?\n",
    "- Medical diagnosis: age difference in samples when detecting cancer. caused covariant shift.\n",
    "- Self driving cars: roadside detector simulated. in real life, it is not as good. caused covariant shift.\n",
    "- nonstationary distributions: eg. adevertising (new ipad launches), spam filter but new spammer with new tricks, reccomdender system (new movies, new users). \n",
    "- these shifts can be corrected\n",
    "- "
   ]
  },
  {
   "cell_type": "markdown",
   "metadata": {},
   "source": []
  },
  {
   "cell_type": "markdown",
   "metadata": {},
   "source": []
  }
 ],
 "metadata": {
  "kernelspec": {
   "display_name": "base",
   "language": "python",
   "name": "python3"
  },
  "language_info": {
   "codemirror_mode": {
    "name": "ipython",
    "version": 3
   },
   "file_extension": ".py",
   "mimetype": "text/x-python",
   "name": "python",
   "nbconvert_exporter": "python",
   "pygments_lexer": "ipython3",
   "version": "3.11.8"
  }
 },
 "nbformat": 4,
 "nbformat_minor": 2
}
