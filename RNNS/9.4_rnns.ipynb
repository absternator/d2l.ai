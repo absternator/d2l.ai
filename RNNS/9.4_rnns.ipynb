{
 "cells": [
  {
   "cell_type": "markdown",
   "metadata": {},
   "source": [
    "## RNNS\n",
    "$$\n",
    "P(x_t \\mid x_{t-1}, \\dots, x_1) \\approx P(x_t \\mid h_{t-1})\n",
    "$$\n",
    "- $ht = f(x_t, ht-1)$\n",
    "$$\n",
    "\\mathbf{H}_t = \\phi(\\mathbf{X}_t \\mathbf{W}_{xh} + \\mathbf{H}_{t-1} \\mathbf{W}_{hh} + \\mathbf{b}_h)\n",
    "$$\n",
    "\n",
    "- Hidden state uses same definition as prev time step in the current time step. Thus computation is recurrent. hence recurrent layers and  neural network\n",
    "\n"
   ]
  },
  {
   "cell_type": "code",
   "execution_count": 2,
   "metadata": {},
   "outputs": [],
   "source": [
    "import torch\n",
    "from d2l import torch as d2l"
   ]
  },
  {
   "cell_type": "code",
   "execution_count": 5,
   "metadata": {},
   "outputs": [
    {
     "name": "stdout",
     "output_type": "stream",
     "text": [
      "tensor([[-1.0355, -0.3764, -2.6309,  0.7753],\n",
      "        [-1.6885, -1.9384,  0.3852,  0.7754],\n",
      "        [ 1.4346, -1.8717,  6.5223,  0.7529]])\n",
      "tensor([[-1.0355, -0.3764, -2.6309,  0.7753],\n",
      "        [-1.6885, -1.9384,  0.3852,  0.7754],\n",
      "        [ 1.4346, -1.8717,  6.5223,  0.7529]])\n"
     ]
    }
   ],
   "source": [
    "# can get \n",
    "X, W_xh = torch.randn(3, 1), torch.randn(1, 4)\n",
    "H, W_hh = torch.randn(3, 4), torch.randn(4, 4)\n",
    "print(torch.matmul(X, W_xh) + torch.matmul(H, W_hh)) # size 3,  4 as expected\n",
    "print(torch.matmul(torch.cat((X, H), dim=1), torch.cat((W_xh, W_hh), dim=0))) # same res as above"
   ]
  },
  {
   "cell_type": "code",
   "execution_count": null,
   "metadata": {},
   "outputs": [
    {
     "data": {
      "text/plain": [
       "tensor([[ 0.9163,  1.1414, -0.4810,  0.7046, -0.0820],\n",
       "        [ 1.7890,  0.6371,  0.4074, -0.7482, -0.0399],\n",
       "        [-1.0555, -1.7106,  0.8202, -1.8226, -1.0724]])"
      ]
     },
     "execution_count": 10,
     "metadata": {},
     "output_type": "execute_result"
    }
   ],
   "source": []
  }
 ],
 "metadata": {
  "kernelspec": {
   "display_name": "base",
   "language": "python",
   "name": "python3"
  },
  "language_info": {
   "codemirror_mode": {
    "name": "ipython",
    "version": 3
   },
   "file_extension": ".py",
   "mimetype": "text/x-python",
   "name": "python",
   "nbconvert_exporter": "python",
   "pygments_lexer": "ipython3",
   "version": "3.11.8"
  }
 },
 "nbformat": 4,
 "nbformat_minor": 2
}
