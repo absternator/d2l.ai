{
 "cells": [
  {
   "cell_type": "markdown",
   "metadata": {},
   "source": [
    "## Backpropogation through time\n",
    "- Vanishing & Exploding Gradient Problem\n",
    "- because backpropogation through time is a chain of matrix multiplications, the gradients can become very small or very large as they are backpropogated through the network. This is \n",
    "dependent on the if (t) num of hidden states becomes large\n",
    "- Stratagies to mitigate this problem\n",
    "    - Gradient clipping\n",
    "    - Weight initialization\n",
    "    - Batch normalization\n",
    "    - LSTM & GRU\n",
    "    - Truncating time steps using $\\frac{\\partial h_{t-\\tau}}{\\partial w_h} $\n",
    "    - randomized truncation\n",
    "    - \n",
    " "
   ]
  },
  {
   "cell_type": "markdown",
   "metadata": {},
   "source": []
  }
 ],
 "metadata": {
  "language_info": {
   "name": "python"
  }
 },
 "nbformat": 4,
 "nbformat_minor": 2
}
