{
 "cells": [
  {
   "cell_type": "code",
   "execution_count": 2,
   "metadata": {},
   "outputs": [],
   "source": [
    "import numpy as np;\n",
    "import torch;\n",
    "import matplotlib.pyplot as plt\n",
    "import h5py"
   ]
  },
  {
   "cell_type": "code",
   "execution_count": 104,
   "metadata": {},
   "outputs": [
    {
     "name": "stdout",
     "output_type": "stream",
     "text": [
      "/my_data\n",
      "/group1/dset2\n",
      "/g2/dset3\n",
      "True\n",
      "g2\n",
      "g2/dset3\n",
      "group1\n",
      "group1/dset2\n",
      "my_data\n"
     ]
    }
   ],
   "source": [
    "fname = \"testfile.h5\"\n",
    "with h5py.File(fname, \"w\") as f:\n",
    "    dset = f.create_dataset(\"my_data\", (100, ), dtype=\"i\")\n",
    "    print(dset.name)\n",
    "    g1  = f.create_group(\"group1\")\n",
    "    dset2 = g1.create_dataset(\"dset2\",data=np.random.rand(10, 10))\n",
    "    print(dset2.name)\n",
    "    dset3 = f.create_dataset(f\"g2/dset3\",dtype=\"i\", data=np.ones(80)) # can create group and dataset via path\n",
    "    print(dset3.name)\n",
    "    \n",
    "    ## add attrs \n",
    "    dset.attrs[\"desc\"] = \"first dataset\"\n",
    "    dset.attrs[\"purpose\"] = \"to love\"\n",
    "    print(\"group1/dset2\" in f)\n",
    "    f.visit(lambda name: print(name)) # visit all groups and datasets\n",
    "    \n"
   ]
  },
  {
   "cell_type": "code",
   "execution_count": 109,
   "metadata": {},
   "outputs": [
    {
     "name": "stdout",
     "output_type": "stream",
     "text": [
      "[0.3229132  0.12278688 0.20789264 0.35724734 0.77884971 0.06857841\n",
      " 0.17948395 0.24186401 0.30515842 0.84745516]\n"
     ]
    }
   ],
   "source": [
    "with h5py.File(fname, \"r\") as f:\n",
    "    dset = f.get(\"group1/dset2\")\n",
    "    print(dset[1,:])"
   ]
  },
  {
   "cell_type": "code",
   "execution_count": 101,
   "metadata": {},
   "outputs": [
    {
     "name": "stdout",
     "output_type": "stream",
     "text": [
      "Main dataset: [ 0  1  2  3  4  5  6  7  8  9 10 11 12 13 14 15 16 17 18 19 20 21 22 23\n",
      " 24 25 26 27 28 29 30 31 32 33 34 35 36 37 38 39 40 41 42 43 44 45 46 47\n",
      " 48 49 50 51 52 53 54 55 56 57 58 59 60 61 62 63 64 65 66 67 68 69 70 71\n",
      " 72 73 74 75 76 77 78 79 80 81 82 83 84 85 86 87 88 89 90 91 92 93 94 95\n",
      " 96 97 98 99]\n",
      "Dataset description: This is a sample dataset\n",
      "Group dataset shape: (10, 10)\n",
      "mydata <class 'h5py._hl.dataset.Dataset'>\n",
      "mygroup <class 'h5py._hl.group.Group'>\n",
      "mygroup/groupdata <class 'h5py._hl.dataset.Dataset'>\n"
     ]
    }
   ],
   "source": [
    "import h5py\n",
    "import numpy as np\n",
    "\n",
    "# Create a new HDF5 file\n",
    "with h5py.File('example.h5', 'w') as f:\n",
    "    # Create a dataset\n",
    "    dataset = f.create_dataset('mydata', data=np.arange(100))\n",
    "    \n",
    "    # Create a group\n",
    "    group = f.create_group('mygroup')\n",
    "    \n",
    "    # Create a dataset within the group\n",
    "    group_dataset = group.create_dataset('groupdata', data=np.random.rand(10, 10))\n",
    "    \n",
    "    # Add attributes\n",
    "    dataset.attrs['description'] = 'This is a sample dataset'\n",
    "    group.attrs['purpose'] = 'Demonstrating group usage'\n",
    "\n",
    "# Read from the HDF5 file\n",
    "with h5py.File('example.h5', 'r') as f:\n",
    "    # Read a dataset\n",
    "    data = f['mydata'][:]\n",
    "    print(\"Main dataset:\", data)\n",
    "    \n",
    "    # Read an attribute\n",
    "    desc = f['mydata'].attrs['description']\n",
    "    print(\"Dataset description:\", desc)\n",
    "    \n",
    "    # Read from a group\n",
    "    group_data = f['mygroup/groupdata'][:]\n",
    "    print(\"Group dataset shape:\", group_data.shape)\n",
    "    \n",
    "    # List all groups and datasets\n",
    "    def print_structure(name, obj)  :\n",
    "        print(name, type(obj))\n",
    "    \n",
    "    f.visititems(print_structure)"
   ]
  }
 ],
 "metadata": {
  "kernelspec": {
   "display_name": "base",
   "language": "python",
   "name": "python3"
  },
  "language_info": {
   "codemirror_mode": {
    "name": "ipython",
    "version": 3
   },
   "file_extension": ".py",
   "mimetype": "text/x-python",
   "name": "python",
   "nbconvert_exporter": "python",
   "pygments_lexer": "ipython3",
   "version": "3.11.8"
  }
 },
 "nbformat": 4,
 "nbformat_minor": 2
}
