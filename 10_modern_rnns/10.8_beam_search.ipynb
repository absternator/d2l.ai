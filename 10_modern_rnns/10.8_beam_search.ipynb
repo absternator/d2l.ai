{
 "cells": [
  {
   "cell_type": "markdown",
   "metadata": {},
   "source": [
    "## Beam Search\n",
    "- before test time prediction was greedy: we take the argmax of the output probabilities\n",
    "- Beam search: instead of taking the argmax, we keep track of the top k most likely sequences\n",
    "- we keep track of the top k most likely sequences, and at each time step, we consider all possible continuations of each of the top k sequences, and keep the top k from that pool\n",
    "- we can also use a beam search with a beam width of 1, which is equivalent to greedy search"
   ]
  }
 ],
 "metadata": {
  "language_info": {
   "name": "python"
  }
 },
 "nbformat": 4,
 "nbformat_minor": 2
}
