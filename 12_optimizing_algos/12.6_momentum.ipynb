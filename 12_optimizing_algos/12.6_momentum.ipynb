{
 "cells": [
  {
   "cell_type": "markdown",
   "id": "0839abb0",
   "metadata": {},
   "source": [
    "# 12.6 Momentum\n",
    "- "
   ]
  },
  {
   "cell_type": "markdown",
   "id": "8af930d0",
   "metadata": {},
   "source": [
    "#"
   ]
  },
  {
   "cell_type": "code",
   "execution_count": null,
   "id": "72fcaee5",
   "metadata": {},
   "outputs": [],
   "source": []
  }
 ],
 "metadata": {
  "language_info": {
   "name": "python"
  }
 },
 "nbformat": 4,
 "nbformat_minor": 5
}
