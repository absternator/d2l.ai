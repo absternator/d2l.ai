{
 "cells": [
  {
   "cell_type": "markdown",
   "metadata": {},
   "source": [
    "## Designing Convolution network architectures\n",
    "- Neural architecture search (NAS), uses search strategy to auto select architecture based on returned performance estimation. Outcome is single network instance.\n",
    "- AnyNet design space- stem body, head of network\n",
    "The resulting $\\textrm{AnyNetX}_E$ design space consists of simple networks\n",
    "following easy-to-interpret design principles:\n",
    "\n",
    "* Share the bottleneck ratio $k_i = k$ for all stages $i$;\n",
    "* Share the group width $g_i = g$ for all stages $i$;\n",
    "* Increase network width across stages: $c_{i} \\leq c_{i+1}$;\n",
    "* Increase network depth across stages: $d_{i} \\leq d_{i+1}$.\n",
    "\n",
    "- \n"
   ]
  },
  {
   "cell_type": "code",
   "execution_count": 2,
   "metadata": {},
   "outputs": [],
   "source": [
    "import torch\n",
    "from torch import nn\n",
    "from torch.nn import functional as F\n",
    "from d2l import torch as d2l"
   ]
  },
  {
   "cell_type": "code",
   "execution_count": 8,
   "metadata": {},
   "outputs": [],
   "source": [
    "class AnyNet(d2l.Classifier):\n",
    "    def stem(self, num_channels):\n",
    "        return nn.Sequential(\n",
    "            nn.LazyConv2d(num_channels, kernel_size=3, stride=2, padding=1),\n",
    "            nn.LazyBatchNorm2d(), nn.ReLU())\n",
    "@d2l.add_to_class(AnyNet)\n",
    "def stage(self, depth, num_channels, groups, bot_mul):\n",
    "    blk = []\n",
    "    for i in range(depth):\n",
    "        if i == 0:\n",
    "            blk.append(d2l.ResNeXtBlock(num_channels, groups, bot_mul,\n",
    "                use_1x1conv=True, strides=2))\n",
    "        else:\n",
    "            blk.append(d2l.ResNeXtBlock(num_channels, groups, bot_mul))\n",
    "    return nn.Sequential(*blk)\n",
    "@d2l.add_to_class(AnyNet)\n",
    "def __init__(self, arch, stem_channels, lr=0.1, num_classes=10):\n",
    "    super(AnyNet, self).__init__()\n",
    "    self.save_hyperparameters()\n",
    "    self.net = nn.Sequential(self.stem(stem_channels))\n",
    "    for i, s in enumerate(arch):\n",
    "        self.net.add_module(f'stage{i+1}', self.stage(*s))\n",
    "    self.net.add_module('head', nn.Sequential(\n",
    "        nn.AdaptiveAvgPool2d((1, 1)), nn.Flatten(),\n",
    "        nn.LazyLinear(num_classes)))\n",
    "    self.net.apply(d2l.init_cnn)"
   ]
  },
  {
   "cell_type": "code",
   "execution_count": 9,
   "metadata": {},
   "outputs": [],
   "source": [
    "class RegNetX32(AnyNet):\n",
    "    def __init__(self, lr=0.1, num_classes=10):\n",
    "        stem_channels, groups, bot_mul = 32, 16, 1\n",
    "        depths, channels = (4, 6), (32, 80)\n",
    "        super().__init__(\n",
    "            ((depths[0], channels[0], groups, bot_mul),\n",
    "             (depths[1], channels[1], groups, bot_mul)),\n",
    "            stem_channels, lr, num_classes)"
   ]
  },
  {
   "cell_type": "code",
   "execution_count": 10,
   "metadata": {},
   "outputs": [
    {
     "name": "stdout",
     "output_type": "stream",
     "text": [
      "Sequential output shape:\t torch.Size([1, 32, 48, 48])\n",
      "Sequential output shape:\t torch.Size([1, 32, 24, 24])\n",
      "Sequential output shape:\t torch.Size([1, 80, 12, 12])\n",
      "Sequential output shape:\t torch.Size([1, 10])\n"
     ]
    }
   ],
   "source": [
    "RegNetX32().layer_summary((1, 1, 96, 96))"
   ]
  },
  {
   "cell_type": "code",
   "execution_count": null,
   "metadata": {},
   "outputs": [],
   "source": [
    "model = RegNetX32(lr=0.05)\n",
    "trainer = d2l.Trainer(max_epochs=10, num_gpus=1)\n",
    "data = d2l.FashionMNIST(batch_size=128, resize=(96, 96))\n",
    "trainer.fit(model, data)"
   ]
  }
 ],
 "metadata": {
  "kernelspec": {
   "display_name": "base",
   "language": "python",
   "name": "python3"
  },
  "language_info": {
   "codemirror_mode": {
    "name": "ipython",
    "version": 3
   },
   "file_extension": ".py",
   "mimetype": "text/x-python",
   "name": "python",
   "nbconvert_exporter": "python",
   "pygments_lexer": "ipython3",
   "version": "3.11.8"
  }
 },
 "nbformat": 4,
 "nbformat_minor": 2
}
